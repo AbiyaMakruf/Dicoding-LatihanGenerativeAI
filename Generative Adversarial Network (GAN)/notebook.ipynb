{
 "cells": [
  {
   "cell_type": "code",
   "execution_count": 2,
   "metadata": {},
   "outputs": [],
   "source": [
    "import torch\n",
    "import torch.nn as nn\n",
    "import torch.optim as optim\n",
    "from torchvision import datasets, transforms"
   ]
  },
  {
   "cell_type": "code",
   "execution_count": 3,
   "metadata": {},
   "outputs": [],
   "source": [
    "latent_dim = 100\n",
    "hidden_dim = 256\n",
    "image_dim = 28 * 28\n",
    "batch_size = 64\n",
    "learning_rate = 0.0002\n",
    "num_epochs = 50"
   ]
  },
  {
   "cell_type": "code",
   "execution_count": 4,
   "metadata": {},
   "outputs": [
    {
     "name": "stdout",
     "output_type": "stream",
     "text": [
      "Downloading http://yann.lecun.com/exdb/mnist/train-images-idx3-ubyte.gz\n",
      "Failed to download (trying next):\n",
      "HTTP Error 403: Forbidden\n",
      "\n",
      "Downloading https://ossci-datasets.s3.amazonaws.com/mnist/train-images-idx3-ubyte.gz\n",
      "Downloading https://ossci-datasets.s3.amazonaws.com/mnist/train-images-idx3-ubyte.gz to ./data\\MNIST\\raw\\train-images-idx3-ubyte.gz\n"
     ]
    },
    {
     "name": "stderr",
     "output_type": "stream",
     "text": [
      "100.0%\n"
     ]
    },
    {
     "name": "stdout",
     "output_type": "stream",
     "text": [
      "Extracting ./data\\MNIST\\raw\\train-images-idx3-ubyte.gz to ./data\\MNIST\\raw\n",
      "\n",
      "Downloading http://yann.lecun.com/exdb/mnist/train-labels-idx1-ubyte.gz\n",
      "Failed to download (trying next):\n",
      "HTTP Error 403: Forbidden\n",
      "\n",
      "Downloading https://ossci-datasets.s3.amazonaws.com/mnist/train-labels-idx1-ubyte.gz\n",
      "Downloading https://ossci-datasets.s3.amazonaws.com/mnist/train-labels-idx1-ubyte.gz to ./data\\MNIST\\raw\\train-labels-idx1-ubyte.gz\n"
     ]
    },
    {
     "name": "stderr",
     "output_type": "stream",
     "text": [
      "100.0%\n"
     ]
    },
    {
     "name": "stdout",
     "output_type": "stream",
     "text": [
      "Extracting ./data\\MNIST\\raw\\train-labels-idx1-ubyte.gz to ./data\\MNIST\\raw\n",
      "\n",
      "Downloading http://yann.lecun.com/exdb/mnist/t10k-images-idx3-ubyte.gz\n",
      "Failed to download (trying next):\n",
      "HTTP Error 403: Forbidden\n",
      "\n",
      "Downloading https://ossci-datasets.s3.amazonaws.com/mnist/t10k-images-idx3-ubyte.gz\n",
      "Downloading https://ossci-datasets.s3.amazonaws.com/mnist/t10k-images-idx3-ubyte.gz to ./data\\MNIST\\raw\\t10k-images-idx3-ubyte.gz\n"
     ]
    },
    {
     "name": "stderr",
     "output_type": "stream",
     "text": [
      "100.0%\n"
     ]
    },
    {
     "name": "stdout",
     "output_type": "stream",
     "text": [
      "Extracting ./data\\MNIST\\raw\\t10k-images-idx3-ubyte.gz to ./data\\MNIST\\raw\n",
      "\n",
      "Downloading http://yann.lecun.com/exdb/mnist/t10k-labels-idx1-ubyte.gz\n",
      "Failed to download (trying next):\n",
      "HTTP Error 403: Forbidden\n",
      "\n",
      "Downloading https://ossci-datasets.s3.amazonaws.com/mnist/t10k-labels-idx1-ubyte.gz\n",
      "Downloading https://ossci-datasets.s3.amazonaws.com/mnist/t10k-labels-idx1-ubyte.gz to ./data\\MNIST\\raw\\t10k-labels-idx1-ubyte.gz\n"
     ]
    },
    {
     "name": "stderr",
     "output_type": "stream",
     "text": [
      "100.0%"
     ]
    },
    {
     "name": "stdout",
     "output_type": "stream",
     "text": [
      "Extracting ./data\\MNIST\\raw\\t10k-labels-idx1-ubyte.gz to ./data\\MNIST\\raw\n",
      "\n"
     ]
    },
    {
     "name": "stderr",
     "output_type": "stream",
     "text": [
      "\n"
     ]
    }
   ],
   "source": [
    "transform = transforms.Compose([transforms.ToTensor(), transforms.Normalize((0.5,), (0.5,))])\n",
    "train_dataset = datasets.MNIST(root='./data', train=True, transform=transform, download=True)\n",
    "train_loader = torch.utils.data.DataLoader(dataset=train_dataset, batch_size=batch_size, shuffle=True)"
   ]
  },
  {
   "cell_type": "code",
   "execution_count": 5,
   "metadata": {},
   "outputs": [],
   "source": [
    "class Generator(nn.Module):\n",
    "    def __init__(self):\n",
    "        super(Generator, self).__init__()\n",
    "        self.model = nn.Sequential(\n",
    "            nn.Linear(latent_dim, hidden_dim),\n",
    "            nn.ReLU(True),\n",
    "            nn.Linear(hidden_dim, hidden_dim),\n",
    "            nn.ReLU(True),\n",
    "            nn.Linear(hidden_dim, image_dim),\n",
    "            nn.Tanh()\n",
    "        )\n",
    " \n",
    "    def forward(self, z):\n",
    "        img = self.model(z)\n",
    "        img = img.view(img.size(0), 1, 28, 28)\n",
    "        return img"
   ]
  },
  {
   "cell_type": "code",
   "execution_count": 7,
   "metadata": {},
   "outputs": [],
   "source": [
    "class Discriminator(nn.Module):\n",
    "    def __init__(self):\n",
    "        super(Discriminator, self).__init__()\n",
    "        self.model = nn.Sequential(\n",
    "            nn.Linear(image_dim, hidden_dim),\n",
    "            nn.LeakyReLU(0.2, inplace=True),\n",
    "            nn.Linear(hidden_dim, hidden_dim),\n",
    "            nn.LeakyReLU(0.2, inplace=True),\n",
    "            nn.Linear(hidden_dim, 1),\n",
    "            nn.Sigmoid()\n",
    "        )\n",
    " \n",
    "    def forward(self, img):\n",
    "        img_flat = img.view(img.size(0), -1)\n",
    "        validity = self.model(img_flat)\n",
    "        return validity"
   ]
  },
  {
   "cell_type": "code",
   "execution_count": 8,
   "metadata": {},
   "outputs": [],
   "source": [
    "generator = Generator()\n",
    "discriminator = Discriminator()"
   ]
  },
  {
   "cell_type": "code",
   "execution_count": 9,
   "metadata": {},
   "outputs": [],
   "source": [
    "# Optimizers\n",
    "optimizer_G = optim.Adam(generator.parameters(), lr=learning_rate)\n",
    "optimizer_D = optim.Adam(discriminator.parameters(), lr=learning_rate)\n",
    " \n",
    "# Loss function\n",
    "adversarial_loss = nn.BCELoss()"
   ]
  },
  {
   "cell_type": "code",
   "execution_count": 11,
   "metadata": {},
   "outputs": [
    {
     "name": "stdout",
     "output_type": "stream",
     "text": [
      "Epoch 1/50, D Loss: 0.028547875583171844, G Loss: 3.2719016075134277\n",
      "Epoch 2/50, D Loss: 0.14346584677696228, G Loss: 2.1492176055908203\n",
      "Epoch 3/50, D Loss: 0.11877377331256866, G Loss: 2.7156593799591064\n",
      "Epoch 4/50, D Loss: 0.06795138120651245, G Loss: 2.8079113960266113\n",
      "Epoch 5/50, D Loss: 0.02546776458621025, G Loss: 4.8488335609436035\n",
      "Epoch 6/50, D Loss: 0.02884427085518837, G Loss: 5.243170738220215\n",
      "Epoch 7/50, D Loss: 0.052219294011592865, G Loss: 3.997072219848633\n",
      "Epoch 8/50, D Loss: 0.11719417572021484, G Loss: 3.607974052429199\n",
      "Epoch 9/50, D Loss: 0.06886287033557892, G Loss: 2.830116033554077\n",
      "Epoch 10/50, D Loss: 0.02922547422349453, G Loss: 5.219596862792969\n",
      "Epoch 11/50, D Loss: 0.26998233795166016, G Loss: 2.0939295291900635\n",
      "Epoch 12/50, D Loss: 0.09281124919652939, G Loss: 3.8898913860321045\n",
      "Epoch 13/50, D Loss: 0.04006495699286461, G Loss: 3.693467140197754\n",
      "Epoch 14/50, D Loss: 0.10275638103485107, G Loss: 3.999345541000366\n",
      "Epoch 15/50, D Loss: 0.026918619871139526, G Loss: 4.151669979095459\n",
      "Epoch 16/50, D Loss: 0.18975356221199036, G Loss: 2.782177686691284\n",
      "Epoch 17/50, D Loss: 0.16791675984859467, G Loss: 2.5971288681030273\n",
      "Epoch 18/50, D Loss: 0.1381952166557312, G Loss: 2.689249038696289\n",
      "Epoch 19/50, D Loss: 0.15479765832424164, G Loss: 4.009344100952148\n",
      "Epoch 20/50, D Loss: 0.09046641737222672, G Loss: 2.867527484893799\n",
      "Epoch 21/50, D Loss: 0.06921658664941788, G Loss: 5.049410820007324\n",
      "Epoch 22/50, D Loss: 0.08552119135856628, G Loss: 4.480075836181641\n",
      "Epoch 23/50, D Loss: 0.16476288437843323, G Loss: 3.622446060180664\n",
      "Epoch 24/50, D Loss: 0.13910476863384247, G Loss: 3.1876614093780518\n",
      "Epoch 25/50, D Loss: 0.19900885224342346, G Loss: 2.9833011627197266\n",
      "Epoch 26/50, D Loss: 0.075849249958992, G Loss: 4.891215801239014\n",
      "Epoch 27/50, D Loss: 0.08633876591920853, G Loss: 3.4342586994171143\n",
      "Epoch 28/50, D Loss: 0.23704558610916138, G Loss: 1.8375144004821777\n",
      "Epoch 29/50, D Loss: 0.4722631871700287, G Loss: 3.8232333660125732\n",
      "Epoch 30/50, D Loss: 0.2538517117500305, G Loss: 3.0580508708953857\n",
      "Epoch 31/50, D Loss: 0.16818499565124512, G Loss: 2.5921411514282227\n",
      "Epoch 32/50, D Loss: 0.3211625814437866, G Loss: 3.227097272872925\n",
      "Epoch 33/50, D Loss: 0.0733426958322525, G Loss: 3.0858757495880127\n",
      "Epoch 34/50, D Loss: 0.07995878159999847, G Loss: 3.7826545238494873\n",
      "Epoch 35/50, D Loss: 0.3590218424797058, G Loss: 1.2645893096923828\n",
      "Epoch 36/50, D Loss: 0.6807710528373718, G Loss: 3.4683942794799805\n",
      "Epoch 37/50, D Loss: 0.3208988904953003, G Loss: 2.4329376220703125\n",
      "Epoch 38/50, D Loss: 0.2871037423610687, G Loss: 2.115442991256714\n",
      "Epoch 39/50, D Loss: 0.3061685860157013, G Loss: 2.4393680095672607\n",
      "Epoch 40/50, D Loss: 0.3817102015018463, G Loss: 2.5580761432647705\n",
      "Epoch 41/50, D Loss: 0.27381986379623413, G Loss: 3.6458353996276855\n",
      "Epoch 42/50, D Loss: 0.21347491443157196, G Loss: 3.3813109397888184\n",
      "Epoch 43/50, D Loss: 0.2777988612651825, G Loss: 2.272338390350342\n",
      "Epoch 44/50, D Loss: 0.34113216400146484, G Loss: 1.6529968976974487\n",
      "Epoch 45/50, D Loss: 0.3851313292980194, G Loss: 2.6288998126983643\n",
      "Epoch 46/50, D Loss: 0.311568945646286, G Loss: 1.6500307321548462\n",
      "Epoch 47/50, D Loss: 0.25622525811195374, G Loss: 2.8854658603668213\n",
      "Epoch 48/50, D Loss: 0.41598135232925415, G Loss: 2.4146881103515625\n",
      "Epoch 49/50, D Loss: 0.2120378315448761, G Loss: 2.1235108375549316\n",
      "Epoch 50/50, D Loss: 0.3164045810699463, G Loss: 2.3491055965423584\n"
     ]
    }
   ],
   "source": [
    "for epoch in range(num_epochs):\n",
    "    for i, (imgs, _) in enumerate(train_loader):\n",
    "        valid = torch.ones(imgs.size(0), 1)\n",
    "        fake = torch.zeros(imgs.size(0), 1)\n",
    " \n",
    "        real_imgs = imgs\n",
    " \n",
    "        # Train Generator\n",
    "        optimizer_G.zero_grad()\n",
    "        z = torch.randn(imgs.size(0), latent_dim)\n",
    "        gen_imgs = generator(z)\n",
    "        g_loss = adversarial_loss(discriminator(gen_imgs), valid)\n",
    "        g_loss.backward()\n",
    "        optimizer_G.step()\n",
    " \n",
    "        # Train Discriminator\n",
    "        optimizer_D.zero_grad()\n",
    "        real_loss = adversarial_loss(discriminator(real_imgs), valid)\n",
    "        fake_loss = adversarial_loss(discriminator(gen_imgs.detach()), fake)\n",
    "        d_loss = (real_loss + fake_loss) / 2\n",
    "        d_loss.backward()\n",
    "        optimizer_D.step()\n",
    " \n",
    "    print(f'Epoch {epoch + 1}/{num_epochs}, D Loss: {d_loss.item()}, G Loss: {g_loss.item()}')"
   ]
  },
  {
   "cell_type": "code",
   "execution_count": 13,
   "metadata": {},
   "outputs": [],
   "source": [
    "from matplotlib import pyplot as plt"
   ]
  },
  {
   "cell_type": "code",
   "execution_count": 14,
   "metadata": {},
   "outputs": [
    {
     "data": {
      "image/png": "[encoded data removed]",
      "text/plain": [
       "<Figure size 1000x100 with 10 Axes>"
      ]
     },
     "metadata": {},
     "output_type": "display_data"
    }
   ],
   "source": [
    "# Generate new images\n",
    "def generate_images(generator, num_images, latent_dim):\n",
    "    # Menentukan status generator menjadi evaluation mode\n",
    "    generator.eval()\n",
    " \n",
    "    # Generate random noise\n",
    "    z = torch.randn(num_images, latent_dim)\n",
    " \n",
    "    # Generate images from noise\n",
    "    gen_imgs = generator(z)\n",
    " \n",
    "    # Rescale images menjadi rentang [0, 1]\n",
    "    gen_imgs = 0.5 * gen_imgs + 0.5\n",
    " \n",
    "    # Plot the generated images\n",
    "    fig, axs = plt.subplots(1, num_images, figsize=(num_images, 1))\n",
    "    for i in range(num_images):\n",
    "        axs[i].imshow(gen_imgs[i].detach().numpy().squeeze(), cmap='gray')\n",
    "        axs[i].axis('off')\n",
    "    plt.show()\n",
    " \n",
    "# Generate dan menampilkan 10 gambar baru\n",
    "generate_images(generator, 10, latent_dim)"
   ]
  }
 ],
 "metadata": {
  "kernelspec": {
   "display_name": "latihan-generative",
   "language": "python",
   "name": "python3"
  },
  "language_info": {
   "codemirror_mode": {
    "name": "ipython",
    "version": 3
   },
   "file_extension": ".py",
   "mimetype": "text/x-python",
   "name": "python",
   "nbconvert_exporter": "python",
   "pygments_lexer": "ipython3",
   "version": "3.9.15"
  }
 },
 "nbformat": 4,
 "nbformat_minor": 2
}
