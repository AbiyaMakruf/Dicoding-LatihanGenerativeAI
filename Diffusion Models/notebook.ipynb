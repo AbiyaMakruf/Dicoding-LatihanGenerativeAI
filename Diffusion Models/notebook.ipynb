{
 "cells": [
  {
   "cell_type": "code",
   "execution_count": null,
   "metadata": {},
   "outputs": [],
   "source": [
    "# Menggunakan local environment\n",
    "nvidia-msi\n",
    "# Menggunakan Google Colab\n",
    "!nvidia-msi"
   ]
  },
  {
   "cell_type": "code",
   "execution_count": null,
   "metadata": {},
   "outputs": [],
   "source": [
    "!pip install diffusers==0.11.1\n",
    "!pip install -q accelerate transformers bitsandbytes==0.35.0 safetensors xformers\n",
    "!pip install jax==0.4.23 jaxlib==0.4.23"
   ]
  },
  {
   "cell_type": "code",
   "execution_count": null,
   "metadata": {},
   "outputs": [],
   "source": [
    "import torch \n",
    "from diffusers import StableDiffusionPipeline\n",
    "from PIL import Image\n",
    "import matplotlib.pyplot as plt"
   ]
  },
  {
   "cell_type": "code",
   "execution_count": null,
   "metadata": {},
   "outputs": [],
   "source": [
    "pipe = StableDiffusionPipeline.from_pretrained(\"CompVis/stable-diffusion-v1-4\", torch_dtype=torch.float16)"
   ]
  },
  {
   "cell_type": "code",
   "execution_count": null,
   "metadata": {},
   "outputs": [],
   "source": [
    "pipe = pipe.to('cuda')"
   ]
  },
  {
   "cell_type": "code",
   "execution_count": null,
   "metadata": {},
   "outputs": [],
   "source": [
    "pipe.enable_attention_slicing()\n",
    "pipe.enable_xformers_memory_efficient_attention()"
   ]
  },
  {
   "cell_type": "code",
   "execution_count": null,
   "metadata": {},
   "outputs": [],
   "source": [
    "prompt = 'a dog using combat machete to war, full HD'\n",
    "img = pipe(prompt).images[0]"
   ]
  },
  {
   "cell_type": "code",
   "execution_count": null,
   "metadata": {},
   "outputs": [],
   "source": [
    "seed = 2000\n",
    "generator = torch.Generator('cuda').manual_seed(seed)\n",
    "img = pipe(prompt, generator=generator).images[0]\n",
    "img"
   ]
  },
  {
   "cell_type": "code",
   "execution_count": null,
   "metadata": {},
   "outputs": [],
   "source": [
    "plt.figure(figsize=(18,8))\n",
    "\n",
    "for i in range(1, 6):\n",
    " \n",
    "  n_guidance = i + 3\n",
    "  generator = torch.Generator(\"cuda\").manual_seed(seed)\n",
    "  img = pipe(prompt, guidance_scale=n_guidance, generator=generator).images[0]\n",
    " \n",
    "  plt.subplot(1,5,i)\n",
    "  plt.title('guidance_scale: {}'.format(n_guidance))\n",
    "  plt.imshow(img)\n",
    "  plt.axis('off')\n",
    " \n",
    "plt.show()"
   ]
  },
  {
   "cell_type": "code",
   "execution_count": null,
   "metadata": {},
   "outputs": [],
   "source": [
    "prompt = \"A man using baby shark costume at the moon\"\n",
    "generator = torch.Generator(\"cuda\")\n",
    "img = pipe(prompt, num_inference_steps=999, generator=generator).images[0]\n",
    "img"
   ]
  },
  {
   "cell_type": "code",
   "execution_count": null,
   "metadata": {},
   "outputs": [],
   "source": [
    "import matplotlib.pyplot as plt \n",
    "plt.figure(figsize=(18,8))\n",
    "for i in range(1, 10):\n",
    "  n_steps = i * 1\n",
    "  #print(n_steps)\n",
    "  generator = torch.Generator('cuda')\n",
    "  img = pipe(prompt, num_inference_steps=n_steps, generator=generator).images[0]\n",
    " \n",
    "  plt.subplot(1, 10, i)\n",
    "  plt.title('num_inference_steps: {}'.format(n_steps))\n",
    "  plt.imshow(img)\n",
    "  plt.axis('off')\n",
    "plt.show()"
   ]
  },
  {
   "cell_type": "code",
   "execution_count": null,
   "metadata": {},
   "outputs": [],
   "source": [
    "num_images = 5 \n",
    "prompt = 'a man enjoying sunset at bali beach with his girlfriend'\n",
    "neg_prompt = 'coconut, knife, straw, building'\n",
    " \n",
    " \n",
    "imgs = pipe(prompt, negative_prompt = neg_prompt, num_images_per_prompt=num_images).images\n",
    "grid = grid_img(imgs, rows = 1, cols = 5, scale=0.75)\n",
    "grid"
   ]
  }
 ],
 "metadata": {
  "kernelspec": {
   "display_name": "latihan-generative",
   "language": "python",
   "name": "python3"
  },
  "language_info": {
   "codemirror_mode": {
    "name": "ipython",
    "version": 3
   },
   "file_extension": ".py",
   "mimetype": "text/x-python",
   "name": "python",
   "nbconvert_exporter": "python",
   "pygments_lexer": "ipython3",
   "version": "3.9.15"
  }
 },
 "nbformat": 4,
 "nbformat_minor": 2
}
